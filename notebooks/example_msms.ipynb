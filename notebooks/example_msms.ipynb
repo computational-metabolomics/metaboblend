{
 "cells": [
  {
   "cell_type": "markdown",
   "source": [
    "# MetaboBlend\n",
    "\n",
    "## Example data\n",
    "\n",
    "For this example, we load D-Glucose (HMDB0000122) before generating a database of its\n",
    "substructures; MetaboBlend leverages substructures of known endogenous compounds to\n",
    "generate candidate structures for a given molecular composition and exact mass. We\n",
    "can additionally annotate MSn spectra in order to rank candidate lists."
   ],
   "metadata": {
    "collapsed": false
   }
  },
  {
   "cell_type": "code",
   "execution_count": 4,
   "metadata": {
    "collapsed": true,
    "pycharm": {
     "name": "#%%\n"
    }
   },
   "outputs": [],
   "source": [
    "import os\n",
    "import sys\n",
    "import zipfile\n",
    "from metaboblend.databases import create_isomorphism_database\n",
    "from metaboblend.databases import create_substructure_database\n",
    "from metaboblend.build_structures import generate_structures\n",
    "from metaboblend.build_structures import annotate_msn\n",
    "\n",
    "mol_data_path = os.path.join(\"..\", \"tests\", \"data\", \"test_mols.zip\")\n",
    "zip_ref = zipfile.ZipFile(mol_data_path, 'r')\n",
    "zip_ref.extractall(\"notebook_data\")\n",
    "zip_ref.close()"
   ]
  },
  {
   "cell_type": "markdown",
   "source": [
    "## Database generation\n",
    "\n",
    "MetaboBlend requires a connectivity and substructure database in order to\n",
    "propose candidate structures. Combinations of substructures are considered\n",
    "by MetaboBlend to propose candidate structures for a metabolite of interest.\n"
   ],
   "metadata": {
    "collapsed": false,
    "pycharm": {
     "name": "#%% md\n"
    }
   }
  },
  {
   "cell_type": "code",
   "execution_count": 5,
   "outputs": [
    {
     "ename": "FileNotFoundError",
     "evalue": "[Errno 2] No such file or directory: 'n'",
     "output_type": "error",
     "traceback": [
      "\u001B[1;31m---------------------------------------------------------------------------\u001B[0m",
      "\u001B[1;31mFileNotFoundError\u001B[0m                         Traceback (most recent call last)",
      "\u001B[1;32m<ipython-input-5-fb4a1caa58e9>\u001B[0m in \u001B[0;36m<module>\u001B[1;34m\u001B[0m\n\u001B[0;32m     23\u001B[0m \u001B[1;33m\u001B[0m\u001B[0m\n\u001B[0;32m     24\u001B[0m create_substructure_database(os.path.join(\"notebook_data\", \"test_mols\", \"hmdb\", \"HMDB0000122\"),\n\u001B[1;32m---> 25\u001B[1;33m                              \"connectivity_graphs.sqlite\", n_min=2, n_max=12)\n\u001B[0m\u001B[0;32m     26\u001B[0m \u001B[1;33m\u001B[0m\u001B[0m\n\u001B[0;32m     27\u001B[0m \u001B[1;33m\u001B[0m\u001B[0m\n",
      "\u001B[1;32m~\\OneDrive\\Documents\\Work\\Final_Year_2019-2020\\LCMS_Dissertation\\Metaboverse\\metaboblend\\metaboblend\\databases.py\u001B[0m in \u001B[0;36mcreate_substructure_database\u001B[1;34m(hmdb_paths, path_substructure_db, n_min, n_max, method, max_atoms_available, max_valence, substructures_only)\u001B[0m\n\u001B[0;32m    993\u001B[0m         update_substructure_database(hmdb_path, path_substructure_db, n_min, n_max, method=method,\n\u001B[0;32m    994\u001B[0m                                      \u001B[0mmax_atoms_available\u001B[0m\u001B[1;33m=\u001B[0m\u001B[0mmax_atoms_available\u001B[0m\u001B[1;33m,\u001B[0m \u001B[0mmax_valence\u001B[0m\u001B[1;33m=\u001B[0m\u001B[0mmax_valence\u001B[0m\u001B[1;33m,\u001B[0m\u001B[1;33m\u001B[0m\u001B[1;33m\u001B[0m\u001B[0m\n\u001B[1;32m--> 995\u001B[1;33m                                      substructures_only=substructures_only)\n\u001B[0m\u001B[0;32m    996\u001B[0m \u001B[1;33m\u001B[0m\u001B[0m\n\u001B[0;32m    997\u001B[0m     \u001B[0mdb\u001B[0m \u001B[1;33m=\u001B[0m \u001B[0mSubstructureDb\u001B[0m\u001B[1;33m(\u001B[0m\u001B[0mpath_substructure_db\u001B[0m\u001B[1;33m)\u001B[0m\u001B[1;33m\u001B[0m\u001B[1;33m\u001B[0m\u001B[0m\n",
      "\u001B[1;32m~\\OneDrive\\Documents\\Work\\Final_Year_2019-2020\\LCMS_Dissertation\\Metaboverse\\metaboblend\\metaboblend\\databases.py\u001B[0m in \u001B[0;36mupdate_substructure_database\u001B[1;34m(hmdb_path, path_substructure_db, n_min, n_max, records, method, max_atoms_available, max_valence, substructures_only)\u001B[0m\n\u001B[0;32m   1044\u001B[0m         \u001B[0mrecords\u001B[0m \u001B[1;33m=\u001B[0m \u001B[0mparse_xml\u001B[0m\u001B[1;33m(\u001B[0m\u001B[0mhmdb_path\u001B[0m\u001B[1;33m,\u001B[0m \u001B[0mreformat\u001B[0m\u001B[1;33m=\u001B[0m\u001B[1;32mFalse\u001B[0m\u001B[1;33m)\u001B[0m\u001B[1;33m\u001B[0m\u001B[1;33m\u001B[0m\u001B[0m\n\u001B[0;32m   1045\u001B[0m \u001B[1;33m\u001B[0m\u001B[0m\n\u001B[1;32m-> 1046\u001B[1;33m     \u001B[1;32mfor\u001B[0m \u001B[0mrecord_dict\u001B[0m \u001B[1;32min\u001B[0m \u001B[0mfilter_records\u001B[0m\u001B[1;33m(\u001B[0m\u001B[0mrecords\u001B[0m\u001B[1;33m)\u001B[0m\u001B[1;33m:\u001B[0m\u001B[1;33m\u001B[0m\u001B[1;33m\u001B[0m\u001B[0m\n\u001B[0m\u001B[0;32m   1047\u001B[0m         \u001B[1;32mif\u001B[0m \u001B[1;32mnot\u001B[0m \u001B[0msubstructures_only\u001B[0m\u001B[1;33m:\u001B[0m\u001B[1;33m\u001B[0m\u001B[1;33m\u001B[0m\u001B[0m\n\u001B[0;32m   1048\u001B[0m             cursor.execute(\"\"\"INSERT OR IGNORE INTO compounds (\n",
      "\u001B[1;32m~\\OneDrive\\Documents\\Work\\Final_Year_2019-2020\\LCMS_Dissertation\\Metaboverse\\metaboblend\\metaboblend\\databases.py\u001B[0m in \u001B[0;36mfilter_records\u001B[1;34m(records)\u001B[0m\n\u001B[0;32m    783\u001B[0m     \"\"\"\n\u001B[0;32m    784\u001B[0m \u001B[1;33m\u001B[0m\u001B[0m\n\u001B[1;32m--> 785\u001B[1;33m     \u001B[1;32mfor\u001B[0m \u001B[0mrecord\u001B[0m \u001B[1;32min\u001B[0m \u001B[0mrecords\u001B[0m\u001B[1;33m:\u001B[0m\u001B[1;33m\u001B[0m\u001B[1;33m\u001B[0m\u001B[0m\n\u001B[0m\u001B[0;32m    786\u001B[0m \u001B[1;33m\u001B[0m\u001B[0m\n\u001B[0;32m    787\u001B[0m         \u001B[1;32mif\u001B[0m \u001B[1;34m\"smiles\"\u001B[0m \u001B[1;32min\u001B[0m \u001B[0mrecord\u001B[0m\u001B[1;33m:\u001B[0m\u001B[1;33m\u001B[0m\u001B[1;33m\u001B[0m\u001B[0m\n",
      "\u001B[1;32m~\\OneDrive\\Documents\\Work\\Final_Year_2019-2020\\LCMS_Dissertation\\Metaboverse\\metaboblend\\metaboblend\\databases.py\u001B[0m in \u001B[0;36mparse_xml\u001B[1;34m(source, encoding, reformat)\u001B[0m\n\u001B[0;32m     83\u001B[0m         \u001B[0mreformat_xml\u001B[0m\u001B[1;33m(\u001B[0m\u001B[0msource\u001B[0m\u001B[1;33m,\u001B[0m \u001B[0mencoding\u001B[0m\u001B[1;33m)\u001B[0m\u001B[1;33m\u001B[0m\u001B[1;33m\u001B[0m\u001B[0m\n\u001B[0;32m     84\u001B[0m \u001B[1;33m\u001B[0m\u001B[0m\n\u001B[1;32m---> 85\u001B[1;33m     \u001B[1;32mwith\u001B[0m \u001B[0mio\u001B[0m\u001B[1;33m.\u001B[0m\u001B[0mopen\u001B[0m\u001B[1;33m(\u001B[0m\u001B[0msource\u001B[0m\u001B[1;33m,\u001B[0m \u001B[1;34m\"r\"\u001B[0m\u001B[1;33m,\u001B[0m \u001B[0mencoding\u001B[0m\u001B[1;33m=\u001B[0m\u001B[0mencoding\u001B[0m\u001B[1;33m)\u001B[0m \u001B[1;32mas\u001B[0m \u001B[0minp\u001B[0m\u001B[1;33m:\u001B[0m\u001B[1;33m\u001B[0m\u001B[1;33m\u001B[0m\u001B[0m\n\u001B[0m\u001B[0;32m     86\u001B[0m         \u001B[0mrecord_out\u001B[0m \u001B[1;33m=\u001B[0m \u001B[0mOrderedDict\u001B[0m\u001B[1;33m(\u001B[0m\u001B[1;33m)\u001B[0m\u001B[1;33m\u001B[0m\u001B[1;33m\u001B[0m\u001B[0m\n\u001B[0;32m     87\u001B[0m \u001B[1;33m\u001B[0m\u001B[0m\n",
      "\u001B[1;31mFileNotFoundError\u001B[0m: [Errno 2] No such file or directory: 'n'"
     ]
    }
   ],
   "source": [
    "if sys.platform == \"win32\" or sys.platform == \"win64\":\n",
    "    path_ri = os.path.join(\"..\", \"tools\", \"RI_win\", \"RI3.6-release\", \"ri36\")\n",
    "\n",
    "elif sys.platform == \"darwin\":\n",
    "    path_ri = os.path.join(\"..\", \"tools\", \"RI_mac\", \"RI3.6-release\", \"ri36\")\n",
    "\n",
    "elif sys.platform == \"linux2\":\n",
    "    if \"bb\" in \"socket.gethostname\":\n",
    "        path_ri = os.path.join(\"..\", \"tools\", \"RI_unix\", \"RI3.6-release\", \"ri36\")\n",
    "    else:\n",
    "        path_ri = os.path.join(\"..\", \"tools\", \"RI_bb\", \"RI3.6-release\", \"ri36\")\n",
    "\n",
    "elif sys.platform == \"linux\":\n",
    "    path_ri = os.path.join(\"..\", \"tools\", \"RI_unix\", \"RI3.6-release\", \"ri36\")\n",
    "\n",
    "else:\n",
    "    path_ri = os.path.join(\"..\", \"ri36\")\n",
    "\n",
    "create_isomorphism_database(\"connectivity_graphs.sqlite\",\n",
    "                            max_atoms_available=2,\n",
    "                            max_n_substructures=3,\n",
    "                            path_ri=path_ri)\n",
    "\n",
    "create_substructure_database(os.path.join(\"notebook_data\", \"test_mols\", \"hmdb\", \"HMDB0000122\"),\n",
    "                             \"connectivity_graphs.sqlite\", n_min=2, n_max=12)\n"
   ],
   "metadata": {
    "collapsed": false,
    "pycharm": {
     "name": "#%%\n"
    }
   }
  },
  {
   "cell_type": "markdown",
   "source": [
    "## Standard structure generation"
   ],
   "metadata": {
    "collapsed": false,
    "pycharm": {
     "name": "#%% md\n"
    }
   }
  },
  {
   "cell_type": "code",
   "execution_count": null,
   "outputs": [],
   "source": [
    "ms_data = {\"HMDB0000122\": {\"mc\": [], \"exact_mass\": 180.063388116}}\n",
    "\n",
    "generate_structures(ms_data)"
   ],
   "metadata": {
    "collapsed": false,
    "pycharm": {
     "name": "#%%\n"
    }
   }
  },
  {
   "cell_type": "markdown",
   "source": [
    "## MS/MS guided structure generation"
   ],
   "metadata": {
    "collapsed": false,
    "pycharm": {
     "name": "#%% md\n"
    }
   }
  },
  {
   "cell_type": "code",
   "execution_count": null,
   "outputs": [],
   "source": [
    "ms_data = {\"HMDB0000122\": {\"mc\": [], \"exact_mass\": 180.063388116,\n",
    "                           \"prescribed_masses\": []}}\n",
    "\n",
    "annotate_msn(ms_data)"
   ],
   "metadata": {
    "collapsed": false,
    "pycharm": {
     "name": "#%%\n"
    }
   }
  }
 ],
 "metadata": {
  "kernelspec": {
   "name": "pycharm-6393377e",
   "language": "python",
   "display_name": "PyCharm (metaboverse)"
  },
  "language_info": {
   "codemirror_mode": {
    "name": "ipython",
    "version": 2
   },
   "file_extension": ".py",
   "mimetype": "text/x-python",
   "name": "python",
   "nbconvert_exporter": "python",
   "pygments_lexer": "ipython2",
   "version": "2.7.6"
  }
 },
 "nbformat": 4,
 "nbformat_minor": 0
}