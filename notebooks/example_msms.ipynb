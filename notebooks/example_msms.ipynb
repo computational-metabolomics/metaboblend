{
 "cells": [
  {
   "cell_type": "markdown",
   "source": [
    "# MetaboBlend"
   ],
   "metadata": {
    "collapsed": false
   }
  },
  {
   "cell_type": "code",
   "execution_count": 1,
   "metadata": {
    "collapsed": true,
    "pycharm": {
     "name": "#%%\n"
    }
   },
   "outputs": [
    {
     "name": "stdout",
     "output_type": "stream",
     "text": [
      "hi\n"
     ]
    }
   ],
   "source": [
    "from metaboblend import annotate_msn"
   ]
  }
 ],
 "metadata": {
  "kernelspec": {
   "name": "pycharm-6393377e",
   "language": "python",
   "display_name": "PyCharm (metaboverse)"
  },
  "language_info": {
   "codemirror_mode": {
    "name": "ipython",
    "version": 2
   },
   "file_extension": ".py",
   "mimetype": "text/x-python",
   "name": "python",
   "nbconvert_exporter": "python",
   "pygments_lexer": "ipython2",
   "version": "2.7.6"
  }
 },
 "nbformat": 4,
 "nbformat_minor": 0
}