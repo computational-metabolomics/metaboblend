{
 "cells": [
  {
   "cell_type": "markdown",
   "source": [
    "# MetaboBlend\n",
    "\n",
    "## Example data\n",
    "\n",
    "For this example, we load D-Glucose (HMDB0000122) before generating a database of its\n",
    "substructures; MetaboBlend leverages substructures of known endogenous compounds to\n",
    "generate candidate structures for a given molecular composition and exact mass. We\n",
    "can additionally annotate MSn spectra in order to rank candidate lists."
   ],
   "metadata": {
    "collapsed": false
   }
  },
  {
   "cell_type": "code",
   "execution_count": 3,
   "metadata": {
    "collapsed": true,
    "pycharm": {
     "name": "#%%\n"
    }
   },
   "outputs": [
    {
     "ename": "FileNotFoundError",
     "evalue": "[Errno 2] No such file or directory: 'C:\\\\Users\\\\jackg\\\\OneDrive\\\\Documents\\\\Work\\\\Final_Year_2019-2020\\\\LCMS_Dissertation\\\\Metaboverse\\\\metaboblend\\\\notebooks\\\\data\\\\tests\\\\test_mols.zip'",
     "output_type": "error",
     "traceback": [
      "\u001B[1;31m---------------------------------------------------------------------------\u001B[0m",
      "\u001B[1;31mFileNotFoundError\u001B[0m                         Traceback (most recent call last)",
      "\u001B[1;32m<ipython-input-3-1522527d3103>\u001B[0m in \u001B[0;36m<module>\u001B[1;34m\u001B[0m\n\u001B[0;32m     19\u001B[0m \u001B[0mnotebook_dir\u001B[0m \u001B[1;33m=\u001B[0m \u001B[0mos\u001B[0m\u001B[1;33m.\u001B[0m\u001B[0mpath\u001B[0m\u001B[1;33m.\u001B[0m\u001B[0mjoin\u001B[0m\u001B[1;33m(\u001B[0m\u001B[0mpackage_dir\u001B[0m\u001B[1;33m,\u001B[0m \u001B[1;34m\"notebooks\"\u001B[0m\u001B[1;33m,\u001B[0m \u001B[1;34m\"notebook_data\"\u001B[0m\u001B[1;33m)\u001B[0m\u001B[1;33m\u001B[0m\u001B[1;33m\u001B[0m\u001B[0m\n\u001B[0;32m     20\u001B[0m \u001B[1;33m\u001B[0m\u001B[0m\n\u001B[1;32m---> 21\u001B[1;33m \u001B[0mzip_ref\u001B[0m \u001B[1;33m=\u001B[0m \u001B[0mzipfile\u001B[0m\u001B[1;33m.\u001B[0m\u001B[0mZipFile\u001B[0m\u001B[1;33m(\u001B[0m\u001B[0mos\u001B[0m\u001B[1;33m.\u001B[0m\u001B[0mpath\u001B[0m\u001B[1;33m.\u001B[0m\u001B[0mjoin\u001B[0m\u001B[1;33m(\u001B[0m\u001B[0mpackage_dir\u001B[0m\u001B[1;33m,\u001B[0m \u001B[1;34m\"data\"\u001B[0m\u001B[1;33m,\u001B[0m \u001B[1;34m\"tests\"\u001B[0m\u001B[1;33m,\u001B[0m \u001B[1;34m\"test_mols.zip\"\u001B[0m\u001B[1;33m)\u001B[0m\u001B[1;33m,\u001B[0m \u001B[1;34m'r'\u001B[0m\u001B[1;33m)\u001B[0m\u001B[1;33m\u001B[0m\u001B[1;33m\u001B[0m\u001B[0m\n\u001B[0m\u001B[0;32m     22\u001B[0m \u001B[0mzip_ref\u001B[0m\u001B[1;33m.\u001B[0m\u001B[0mextractall\u001B[0m\u001B[1;33m(\u001B[0m\u001B[0mnotebook_dir\u001B[0m\u001B[1;33m)\u001B[0m\u001B[1;33m\u001B[0m\u001B[1;33m\u001B[0m\u001B[0m\n\u001B[0;32m     23\u001B[0m \u001B[0mzip_ref\u001B[0m\u001B[1;33m.\u001B[0m\u001B[0mclose\u001B[0m\u001B[1;33m(\u001B[0m\u001B[1;33m)\u001B[0m\u001B[1;33m\u001B[0m\u001B[1;33m\u001B[0m\u001B[0m\n",
      "\u001B[1;32m~\\Miniconda3\\envs\\metaboverse\\lib\\zipfile.py\u001B[0m in \u001B[0;36m__init__\u001B[1;34m(self, file, mode, compression, allowZip64, compresslevel)\u001B[0m\n\u001B[0;32m   1202\u001B[0m             \u001B[1;32mwhile\u001B[0m \u001B[1;32mTrue\u001B[0m\u001B[1;33m:\u001B[0m\u001B[1;33m\u001B[0m\u001B[1;33m\u001B[0m\u001B[0m\n\u001B[0;32m   1203\u001B[0m                 \u001B[1;32mtry\u001B[0m\u001B[1;33m:\u001B[0m\u001B[1;33m\u001B[0m\u001B[1;33m\u001B[0m\u001B[0m\n\u001B[1;32m-> 1204\u001B[1;33m                     \u001B[0mself\u001B[0m\u001B[1;33m.\u001B[0m\u001B[0mfp\u001B[0m \u001B[1;33m=\u001B[0m \u001B[0mio\u001B[0m\u001B[1;33m.\u001B[0m\u001B[0mopen\u001B[0m\u001B[1;33m(\u001B[0m\u001B[0mfile\u001B[0m\u001B[1;33m,\u001B[0m \u001B[0mfilemode\u001B[0m\u001B[1;33m)\u001B[0m\u001B[1;33m\u001B[0m\u001B[1;33m\u001B[0m\u001B[0m\n\u001B[0m\u001B[0;32m   1205\u001B[0m                 \u001B[1;32mexcept\u001B[0m \u001B[0mOSError\u001B[0m\u001B[1;33m:\u001B[0m\u001B[1;33m\u001B[0m\u001B[1;33m\u001B[0m\u001B[0m\n\u001B[0;32m   1206\u001B[0m                     \u001B[1;32mif\u001B[0m \u001B[0mfilemode\u001B[0m \u001B[1;32min\u001B[0m \u001B[0mmodeDict\u001B[0m\u001B[1;33m:\u001B[0m\u001B[1;33m\u001B[0m\u001B[1;33m\u001B[0m\u001B[0m\n",
      "\u001B[1;31mFileNotFoundError\u001B[0m: [Errno 2] No such file or directory: 'C:\\\\Users\\\\jackg\\\\OneDrive\\\\Documents\\\\Work\\\\Final_Year_2019-2020\\\\LCMS_Dissertation\\\\Metaboverse\\\\metaboblend\\\\notebooks\\\\data\\\\tests\\\\test_mols.zip'"
     ]
    }
   ],
   "source": [
    "# standard imports\n",
    "import os\n",
    "import sys\n",
    "import zipfile\n",
    "\n",
    "# rdkit - manipulation of molecules\n",
    "from rdkit import Chem\n",
    "from rdkit.Chem.Draw import IPythonConsole\n",
    "IPythonConsole.ipython_useSVG=True\n",
    "\n",
    "# metaboverse imports\n",
    "from metaboblend.databases import create_isomorphism_database\n",
    "from metaboblend.databases import create_substructure_database\n",
    "from metaboblend.build_structures import generate_structures\n",
    "from metaboblend.build_structures import annotate_msn\n",
    "\n",
    "# extract test data\n",
    "zip_ref = zipfile.ZipFile(os.path.join(\"..\", \"tests\", \"data\", \"test_mols.zip\"), 'r')\n",
    "zip_ref.extractall(\"notebook_data\")\n",
    "zip_ref.close()"
   ]
  },
  {
   "cell_type": "markdown",
   "source": [
    "## Database generation\n",
    "\n",
    "MetaboBlend requires a connectivity and substructure database in order to\n",
    "propose candidate structures. Combinations of substructures are considered\n",
    "by MetaboBlend to propose candidate structures for a metabolite of interest.\n"
   ],
   "metadata": {
    "collapsed": false,
    "pycharm": {
     "name": "#%% md\n"
    }
   }
  },
  {
   "cell_type": "code",
   "execution_count": null,
   "outputs": [],
   "source": [
    "if sys.platform == \"win32\" or sys.platform == \"win64\":  # TODO: add RI as dependency\n",
    "    path_ri = os.path.join(\"..\", \"tools\", \"RI_win\", \"RI3.6-release\", \"ri36\")\n",
    "\n",
    "elif sys.platform == \"darwin\":\n",
    "    path_ri = os.path.join(\"..\", \"tools\", \"RI_mac\", \"RI3.6-release\", \"ri36\")\n",
    "\n",
    "elif sys.platform == \"linux2\":\n",
    "    if \"bb\" in \"socket.gethostname\":\n",
    "        path_ri = os.path.join(\"..\", \"tools\", \"RI_unix\", \"RI3.6-release\", \"ri36\")\n",
    "    else:\n",
    "        path_ri = os.path.join(\"..\", \"tools\", \"RI_bb\", \"RI3.6-release\", \"ri36\")\n",
    "\n",
    "elif sys.platform == \"linux\":\n",
    "    path_ri = os.path.join(\"..\", \"tools\", \"RI_unix\", \"RI3.6-release\", \"ri36\")\n",
    "\n",
    "else:\n",
    "    path_ri = os.path.join(\"..\", \"ri36\")\n",
    "\n",
    "create_isomorphism_database(os.path.join(\"notebook_data\", \"connectivity_graphs.sqlite\"),\n",
    "                           max_atoms_available=2,\n",
    "                           max_n_substructures=3,\n",
    "                           path_ri=path_ri)\n",
    "\n",
    "create_substructure_database([os.path.join(\"notebook_data\", \"test_mols\", \"hmdb\", \"HMDB0000122.xml\")],\n",
    "                             os.path.join(\"notebook_data\", \"substructures.sqlite\"), n_min=2, n_max=12)"
   ],
   "metadata": {
    "collapsed": false,
    "pycharm": {
     "name": "#%%\n"
    }
   }
  },
  {
   "cell_type": "markdown",
   "source": [
    "## Standard structure generation\n",
    "\n",
    "Candidate structures can be generated for a given molecular formula and\n",
    "exact mass from the generated databases. Since this method doesn't use\n",
    "MS/MS information, many unique structures can be generated and candidates\n",
    "are not assigned a relative score.\n",
    "\n",
    "The function yields a set of smiles for each compound in ms_data\n",
    "(in this case, only HMDB0000122). After extracting smiles, RDKit can be\n",
    "used to visualise generated structures."
   ],
   "metadata": {
    "collapsed": false,
    "pycharm": {
     "name": "#%% md\n"
    }
   }
  },
  {
   "cell_type": "code",
   "execution_count": null,
   "outputs": [],
   "source": [
    "ms_data = {\"HMDB0000122\": {\"mc\": [6, 12, 0, 6, 0, 0], \"exact_mass\": 180.063388116}}\n",
    "\n",
    "struct_generator = generate_structures(ms_data,\n",
    "                                       heavy_atoms=range(2, 13), max_valence=6,\n",
    "                                       max_atoms_available=2, max_n_substructures=3,\n",
    "                                       path_connectivity_db=os.path.join(\"notebook_data\", \"connectivity_graphs.sqlite\"),\n",
    "                                       path_substructure_db=os.path.join(\"notebook_data\", \"substructures.sqlite\"))\n",
    "\n",
    "# convert generated sets of smiles to rdkit.Chem.Mol objects\n",
    "generated_mols = [Chem.MolFromSmiles(smiles) for i, smiles in enumerate(list(struct_generator)[0])]\n",
    "generated_mols[0]"
   ],
   "metadata": {
    "collapsed": false,
    "pycharm": {
     "name": "#%%\n"
    }
   }
  },
  {
   "cell_type": "markdown",
   "source": [
    "## MS/MS guided structure generation\n",
    "\n",
    "MSn spectra provide a means of scoring candidates and limiting\n",
    "the generation of unrealistic structures. A list of neutral\n",
    "masses can be provided with the molecular composition and exact\n",
    "mass of a metabolite of interest to inform the annotation process.\n",
    "These masses may have been calculated from the fragment ions of\n",
    "an MS2 spectrum; in this example, the masses of known substructures\n",
    "have been chosen.\n"
   ],
   "metadata": {
    "collapsed": false,
    "pycharm": {
     "name": "#%% md\n"
    }
   }
  },
  {
   "cell_type": "code",
   "execution_count": null,
   "outputs": [],
   "source": [
    "ms_data = {\"HMDB0000122\": {\"mc\": [6, 12, 0, 6, 0, 0], \"exact_mass\": 180.063388116,\n",
    "                           \"prescribed_masses\": [46.0055, 60.0211, 73.029]}}  #\n",
    "\n",
    "annotation_generator = annotate_msn(ms_data, heavy_atoms=range(2, 13), max_valence=6,\n",
    "                                    max_atoms_available=2, max_n_substructures=3, ppm=5,\n",
    "                                    path_connectivity_db=os.path.join(\"notebook_data\", \"connectivity_graphs.sqlite\"),\n",
    "                                    path_substructure_db=os.path.join(\"notebook_data\", \"substructures.sqlite\"))\n",
    "\n",
    "annotated_structures = list(annotation_generator)[0]\n",
    "print(\"Total structures generated: \" + str(len(annotated_structures)))\n",
    "print(\"Number of structures generated by all peaks: \" + str(list(annotated_structures.values()).count(3)))\n",
    "\n",
    "print(annotated_structures[\"OC[C@H]1OC(O)[C@H](O)[C@@H](O)[C@@H]1O\"])\n",
    "Chem.MolFromSmiles(\"OC[C@H]1OC(O)[C@H](O)[C@@H](O)[C@@H]1O\")"
   ],
   "metadata": {
    "collapsed": false,
    "pycharm": {
     "name": "#%%\n"
    }
   }
  }
 ],
 "metadata": {
  "kernelspec": {
   "name": "pycharm-6393377e",
   "language": "python",
   "display_name": "PyCharm (metaboverse)"
  },
  "language_info": {
   "codemirror_mode": {
    "name": "ipython",
    "version": 2
   },
   "file_extension": ".py",
   "mimetype": "text/x-python",
   "name": "python",
   "nbconvert_exporter": "python",
   "pygments_lexer": "ipython2",
   "version": "2.7.6"
  }
 },
 "nbformat": 4,
 "nbformat_minor": 0
}