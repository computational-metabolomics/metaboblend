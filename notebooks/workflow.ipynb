{
 "cells": [
  {
   "cell_type": "markdown",
   "source": [
    "# MetaboBlend\n",
    "\n",
    "## Example data\n",
    "\n",
    "For this example, we load D-Glucose (HMDB0000122) before generating a database of its\n",
    "substructures; MetaboBlend leverages substructures of known endogenous compounds to\n",
    "generate candidate structures for a given molecular composition and exact mass. We\n",
    "can additionally annotate MSn spectra in order to rank candidate lists."
   ],
   "metadata": {
    "collapsed": false,
    "pycharm": {
     "name": "#%% md\n"
    }
   }
  },
  {
   "cell_type": "code",
   "execution_count": 5,
   "metadata": {
    "collapsed": true,
    "pycharm": {
     "name": "#%%\n"
    }
   },
   "outputs": [
    {
     "data": {
      "text/plain": "'C:\\\\Users\\\\jackg\\\\OneDrive\\\\Documents\\\\Work\\\\Final_Year_2019-2020\\\\LCMS_Dissertation\\\\Metaboverse\\\\metaboblend\\\\notebooks\\\\notebook_data'"
     },
     "execution_count": 5,
     "metadata": {},
     "output_type": "execute_result"
    }
   ],
   "source": [
    "# standard imports\n",
    "import os\n",
    "import shutil\n",
    "\n",
    "# rdkit - manipulation of molecules\n",
    "from rdkit import Chem\n",
    "from rdkit.Chem.Draw import IPythonConsole\n",
    "IPythonConsole.ipython_useSVG=True\n",
    "\n",
    "# metaboverse imports\n",
    "from metaboblend.build_structures import generate_structures\n",
    "from metaboblend.build_structures import annotate_msn\n",
    "\n",
    "# extract test data\n",
    "test_data = os.path.realpath(os.path.join(\"..\", \"tests\", \"test_data\"))\n",
    "notebook_data = os.path.realpath(os.path.join(\"notebook_data\"))\n",
    "\n",
    "shutil.copytree(test_data, notebook_data)"
   ]
  },
  {
   "cell_type": "markdown",
   "source": [
    "## Database generation\n",
    "\n",
    "MetaboBlend requires a connectivity and substructure database in order to\n",
    "propose candidate structures. Combinations of substructures are considered\n",
    "by MetaboBlend to propose candidate structures for a metabolite of interest.\n",
    "A standard connectivity database is bundled with the package and a small\n",
    "substructure database has been pre-generated for this example."
   ],
   "metadata": {
    "collapsed": false,
    "pycharm": {
     "name": "#%% md\n"
    }
   }
  },
  {
   "cell_type": "markdown",
   "source": [
    "## Standard structure generation\n",
    "\n",
    "Candidate structures can be generated for a given molecular formula and\n",
    "exact mass from the generated databases. Since this method doesn't use\n",
    "MS/MS information, many unique structures can be generated and candidates\n",
    "are not assigned a relative score.\n",
    "\n",
    "The function yields a set of smiles for each compound in ms_data\n",
    "(in this case, only HMDB0000122). After extracting smiles, RDKit can be\n",
    "used to visualise generated structures."
   ],
   "metadata": {
    "collapsed": false,
    "pycharm": {
     "name": "#%% md\n"
    }
   }
  },
  {
   "cell_type": "code",
   "execution_count": 7,
   "outputs": [
    {
     "data": {
      "text/plain": "<rdkit.Chem.rdchem.Mol at 0x2f8112cd9e0>",
      "image/svg+xml": "<?xml version='1.0' encoding='iso-8859-1'?>\n<svg version='1.1' baseProfile='full'\n              xmlns='http://www.w3.org/2000/svg'\n                      xmlns:rdkit='http://www.rdkit.org/xml'\n                      xmlns:xlink='http://www.w3.org/1999/xlink'\n                  xml:space='preserve'\nwidth='450px' height='150px' viewBox='0 0 450 150'>\n<!-- END OF HEADER -->\n<rect style='opacity:1.0;fill:#FFFFFF;stroke:none' width='450' height='150' x='0' y='0'> </rect>\n<path class='bond-0' d='M 137.42,55.4936 L 145.914,68.0043' style='fill:none;fill-rule:evenodd;stroke:#FF0000;stroke-width:2px;stroke-linecap:butt;stroke-linejoin:miter;stroke-opacity:1' />\n<path class='bond-0' d='M 145.914,68.0043 L 154.408,80.5149' style='fill:none;fill-rule:evenodd;stroke:#000000;stroke-width:2px;stroke-linecap:butt;stroke-linejoin:miter;stroke-opacity:1' />\n<path class='bond-1' d='M 192.181,77.7574 L 154.133,76.7376 L 154.684,84.2922 Z' style='fill:#000000;fill-rule:evenodd;fill-opacity=1;stroke:#000000;stroke-width:2px;stroke-linecap:butt;stroke-linejoin:miter;stroke-opacity:1;' />\n<path class='bond-2' d='M 192.181,77.7574 L 198.903,63.8681' style='fill:none;fill-rule:evenodd;stroke:#000000;stroke-width:2px;stroke-linecap:butt;stroke-linejoin:miter;stroke-opacity:1' />\n<path class='bond-2' d='M 198.903,63.8681 L 205.625,49.9788' style='fill:none;fill-rule:evenodd;stroke:#FF0000;stroke-width:2px;stroke-linecap:butt;stroke-linejoin:miter;stroke-opacity:1' />\n<path class='bond-11' d='M 192.181,77.7574 L 213.456,109.091' style='fill:none;fill-rule:evenodd;stroke:#000000;stroke-width:2px;stroke-linecap:butt;stroke-linejoin:miter;stroke-opacity:1' />\n<path class='bond-3' d='M 214.575,43.2362 L 230.514,42.0726' style='fill:none;fill-rule:evenodd;stroke:#FF0000;stroke-width:2px;stroke-linecap:butt;stroke-linejoin:miter;stroke-opacity:1' />\n<path class='bond-3' d='M 230.514,42.0726 L 246.452,40.9091' style='fill:none;fill-rule:evenodd;stroke:#000000;stroke-width:2px;stroke-linecap:butt;stroke-linejoin:miter;stroke-opacity:1' />\n<path class='bond-4' d='M 246.452,40.9091 L 253.174,27.0197' style='fill:none;fill-rule:evenodd;stroke:#000000;stroke-width:2px;stroke-linecap:butt;stroke-linejoin:miter;stroke-opacity:1' />\n<path class='bond-4' d='M 253.174,27.0197 L 259.896,13.1304' style='fill:none;fill-rule:evenodd;stroke:#FF0000;stroke-width:2px;stroke-linecap:butt;stroke-linejoin:miter;stroke-opacity:1' />\n<path class='bond-5' d='M 246.452,40.9091 L 267.727,72.2426' style='fill:none;fill-rule:evenodd;stroke:#000000;stroke-width:2px;stroke-linecap:butt;stroke-linejoin:miter;stroke-opacity:1' />\n<path class='bond-6' d='M 270.395,72.4275 L 270.34,71.6721' style='fill:none;fill-rule:evenodd;stroke:#000000;stroke-width:1px;stroke-linecap:butt;stroke-linejoin:miter;stroke-opacity:1' />\n<path class='bond-6' d='M 273.063,72.6125 L 272.953,71.1016' style='fill:none;fill-rule:evenodd;stroke:#000000;stroke-width:1px;stroke-linecap:butt;stroke-linejoin:miter;stroke-opacity:1' />\n<path class='bond-6' d='M 275.731,72.7974 L 275.566,70.5311' style='fill:none;fill-rule:evenodd;stroke:#000000;stroke-width:1px;stroke-linecap:butt;stroke-linejoin:miter;stroke-opacity:1' />\n<path class='bond-6' d='M 278.4,72.9824 L 278.179,69.9606' style='fill:none;fill-rule:evenodd;stroke:#000000;stroke-width:1px;stroke-linecap:butt;stroke-linejoin:miter;stroke-opacity:1' />\n<path class='bond-6' d='M 281.068,73.1674 L 280.792,69.3901' style='fill:none;fill-rule:evenodd;stroke:#000000;stroke-width:1px;stroke-linecap:butt;stroke-linejoin:miter;stroke-opacity:1' />\n<path class='bond-6' d='M 283.736,73.3523 L 283.405,68.8196' style='fill:none;fill-rule:evenodd;stroke:#FF0000;stroke-width:1px;stroke-linecap:butt;stroke-linejoin:miter;stroke-opacity:1' />\n<path class='bond-6' d='M 286.404,73.5373 L 286.018,68.2491' style='fill:none;fill-rule:evenodd;stroke:#FF0000;stroke-width:1px;stroke-linecap:butt;stroke-linejoin:miter;stroke-opacity:1' />\n<path class='bond-6' d='M 289.072,73.7222 L 288.631,67.6786' style='fill:none;fill-rule:evenodd;stroke:#FF0000;stroke-width:1px;stroke-linecap:butt;stroke-linejoin:miter;stroke-opacity:1' />\n<path class='bond-6' d='M 291.741,73.9072 L 291.244,67.1081' style='fill:none;fill-rule:evenodd;stroke:#FF0000;stroke-width:1px;stroke-linecap:butt;stroke-linejoin:miter;stroke-opacity:1' />\n<path class='bond-6' d='M 294.409,74.0922 L 293.857,66.5376' style='fill:none;fill-rule:evenodd;stroke:#FF0000;stroke-width:1px;stroke-linecap:butt;stroke-linejoin:miter;stroke-opacity:1' />\n<path class='bond-7' d='M 267.727,72.2426 L 251.228,106.333' style='fill:none;fill-rule:evenodd;stroke:#000000;stroke-width:2px;stroke-linecap:butt;stroke-linejoin:miter;stroke-opacity:1' />\n<path class='bond-8' d='M 251.228,106.333 L 259.723,118.844' style='fill:none;fill-rule:evenodd;stroke:#000000;stroke-width:2px;stroke-linecap:butt;stroke-linejoin:miter;stroke-opacity:1' />\n<path class='bond-8' d='M 259.723,118.844 L 268.217,131.355' style='fill:none;fill-rule:evenodd;stroke:#FF0000;stroke-width:2px;stroke-linecap:butt;stroke-linejoin:miter;stroke-opacity:1' />\n<path class='bond-9' d='M 251.228,106.333 L 213.456,109.091' style='fill:none;fill-rule:evenodd;stroke:#000000;stroke-width:2px;stroke-linecap:butt;stroke-linejoin:miter;stroke-opacity:1' />\n<path class='bond-10' d='M 211.77,111.704 L 212.452,112.034' style='fill:none;fill-rule:evenodd;stroke:#000000;stroke-width:1px;stroke-linecap:butt;stroke-linejoin:miter;stroke-opacity:1' />\n<path class='bond-10' d='M 210.085,114.317 L 211.449,114.977' style='fill:none;fill-rule:evenodd;stroke:#000000;stroke-width:1px;stroke-linecap:butt;stroke-linejoin:miter;stroke-opacity:1' />\n<path class='bond-10' d='M 208.4,116.93 L 210.445,117.919' style='fill:none;fill-rule:evenodd;stroke:#000000;stroke-width:1px;stroke-linecap:butt;stroke-linejoin:miter;stroke-opacity:1' />\n<path class='bond-10' d='M 206.715,119.542 L 209.442,120.862' style='fill:none;fill-rule:evenodd;stroke:#000000;stroke-width:1px;stroke-linecap:butt;stroke-linejoin:miter;stroke-opacity:1' />\n<path class='bond-10' d='M 205.029,122.155 L 208.438,123.805' style='fill:none;fill-rule:evenodd;stroke:#000000;stroke-width:1px;stroke-linecap:butt;stroke-linejoin:miter;stroke-opacity:1' />\n<path class='bond-10' d='M 203.344,124.768 L 207.435,126.748' style='fill:none;fill-rule:evenodd;stroke:#FF0000;stroke-width:1px;stroke-linecap:butt;stroke-linejoin:miter;stroke-opacity:1' />\n<path class='bond-10' d='M 201.659,127.381 L 206.431,129.691' style='fill:none;fill-rule:evenodd;stroke:#FF0000;stroke-width:1px;stroke-linecap:butt;stroke-linejoin:miter;stroke-opacity:1' />\n<path class='bond-10' d='M 199.973,129.994 L 205.428,132.634' style='fill:none;fill-rule:evenodd;stroke:#FF0000;stroke-width:1px;stroke-linecap:butt;stroke-linejoin:miter;stroke-opacity:1' />\n<path class='bond-10' d='M 198.288,132.607 L 204.425,135.577' style='fill:none;fill-rule:evenodd;stroke:#FF0000;stroke-width:1px;stroke-linecap:butt;stroke-linejoin:miter;stroke-opacity:1' />\n<path class='bond-10' d='M 196.603,135.22 L 203.421,138.519' style='fill:none;fill-rule:evenodd;stroke:#FF0000;stroke-width:1px;stroke-linecap:butt;stroke-linejoin:miter;stroke-opacity:1' />\n<text x='121.767' y='55.4936' style='font-size:12px;font-style:normal;font-weight:normal;fill-opacity:1;stroke:none;font-family:sans-serif;text-anchor:start;fill:#FF0000' ><tspan>OH</tspan></text>\n<text x='202.784' y='49.9788' style='font-size:12px;font-style:normal;font-weight:normal;fill-opacity:1;stroke:none;font-family:sans-serif;text-anchor:start;fill:#FF0000' ><tspan>O</tspan></text>\n<text x='251.584' y='13.1304' style='font-size:12px;font-style:normal;font-weight:normal;fill-opacity:1;stroke:none;font-family:sans-serif;text-anchor:start;fill:#FF0000' ><tspan>OH</tspan></text>\n<text x='294.133' y='75.7973' style='font-size:12px;font-style:normal;font-weight:normal;fill-opacity:1;stroke:none;font-family:sans-serif;text-anchor:start;fill:#FF0000' ><tspan>OH</tspan></text>\n<text x='261.136' y='143.979' style='font-size:12px;font-style:normal;font-weight:normal;fill-opacity:1;stroke:none;font-family:sans-serif;text-anchor:start;fill:#FF0000' ><tspan>OH</tspan></text>\n<text x='185.591' y='149.494' style='font-size:12px;font-style:normal;font-weight:normal;fill-opacity:1;stroke:none;font-family:sans-serif;text-anchor:start;fill:#FF0000' ><tspan>OH</tspan></text>\n</svg>\n",
      "image/png": "[encoded data removed]"
     },
     "execution_count": 7,
     "metadata": {},
     "output_type": "execute_result"
    }
   ],
   "source": [
    "ms_data = {\"HMDB0000122\": {\"mc\": [6, 12, 0, 6, 0, 0], \"exact_mass\": 180.063388116}}\n",
    "\n",
    "struct_generator = generate_structures(ms_data,\n",
    "                                       heavy_atoms=range(2, 13), max_valence=6,\n",
    "                                       max_atoms_available=2, max_n_substructures=3,\n",
    "                                       path_connectivity_db=os.path.join(notebook_data, \"connectivity.sqlite\"),\n",
    "                                       path_substructure_db=os.path.join(notebook_data, \"substructures.sqlite\"))\n",
    "\n",
    "# convert generated sets of smiles to rdkit.Chem.Mol objects\n",
    "generated_mols = [Chem.MolFromSmiles(smiles) for i, smiles in enumerate(list(struct_generator)[0])]\n",
    "generated_mols[0]"
   ],
   "metadata": {
    "collapsed": false,
    "pycharm": {
     "name": "#%%\n"
    }
   }
  },
  {
   "cell_type": "markdown",
   "source": [
    "## MS/MS guided structure generation\n",
    "\n",
    "MSn spectra provide a means of scoring candidates and limiting\n",
    "the generation of unrealistic structures. A list of neutral\n",
    "masses can be provided with the molecular composition and exact\n",
    "mass of a metabolite of interest to inform the annotation process.\n",
    "These masses may have been calculated from the fragment ions of\n",
    "an MS2 spectrum; in this example, the masses of known substructures\n",
    "have been chosen.\n"
   ],
   "metadata": {
    "collapsed": false,
    "pycharm": {
     "name": "#%% md\n"
    }
   }
  },
  {
   "cell_type": "code",
   "execution_count": 8,
   "outputs": [
    {
     "name": "stdout",
     "output_type": "stream",
     "text": [
      "Total structures generated: 47\n",
      "Number of structures generated by all peaks: 0\n",
      "2\n"
     ]
    },
    {
     "data": {
      "text/plain": "<rdkit.Chem.rdchem.Mol at 0x2f811261260>",
      "image/svg+xml": "<?xml version='1.0' encoding='iso-8859-1'?>\n<svg version='1.1' baseProfile='full'\n              xmlns='http://www.w3.org/2000/svg'\n                      xmlns:rdkit='http://www.rdkit.org/xml'\n                      xmlns:xlink='http://www.w3.org/1999/xlink'\n                  xml:space='preserve'\nwidth='450px' height='150px' viewBox='0 0 450 150'>\n<!-- END OF HEADER -->\n<rect style='opacity:1.0;fill:#FFFFFF;stroke:none' width='450' height='150' x='0' y='0'> </rect>\n<path class='bond-0' d='M 137.42,55.4936 L 145.914,68.0043' style='fill:none;fill-rule:evenodd;stroke:#FF0000;stroke-width:2px;stroke-linecap:butt;stroke-linejoin:miter;stroke-opacity:1' />\n<path class='bond-0' d='M 145.914,68.0043 L 154.408,80.5149' style='fill:none;fill-rule:evenodd;stroke:#000000;stroke-width:2px;stroke-linecap:butt;stroke-linejoin:miter;stroke-opacity:1' />\n<path class='bond-1' d='M 192.181,77.7574 L 154.133,76.7376 L 154.684,84.2922 Z' style='fill:#000000;fill-rule:evenodd;fill-opacity=1;stroke:#000000;stroke-width:2px;stroke-linecap:butt;stroke-linejoin:miter;stroke-opacity:1;' />\n<path class='bond-2' d='M 192.181,77.7574 L 198.903,63.8681' style='fill:none;fill-rule:evenodd;stroke:#000000;stroke-width:2px;stroke-linecap:butt;stroke-linejoin:miter;stroke-opacity:1' />\n<path class='bond-2' d='M 198.903,63.8681 L 205.625,49.9788' style='fill:none;fill-rule:evenodd;stroke:#FF0000;stroke-width:2px;stroke-linecap:butt;stroke-linejoin:miter;stroke-opacity:1' />\n<path class='bond-11' d='M 192.181,77.7574 L 213.456,109.091' style='fill:none;fill-rule:evenodd;stroke:#000000;stroke-width:2px;stroke-linecap:butt;stroke-linejoin:miter;stroke-opacity:1' />\n<path class='bond-3' d='M 214.575,43.2362 L 230.514,42.0726' style='fill:none;fill-rule:evenodd;stroke:#FF0000;stroke-width:2px;stroke-linecap:butt;stroke-linejoin:miter;stroke-opacity:1' />\n<path class='bond-3' d='M 230.514,42.0726 L 246.452,40.9091' style='fill:none;fill-rule:evenodd;stroke:#000000;stroke-width:2px;stroke-linecap:butt;stroke-linejoin:miter;stroke-opacity:1' />\n<path class='bond-4' d='M 246.452,40.9091 L 253.174,27.0197' style='fill:none;fill-rule:evenodd;stroke:#000000;stroke-width:2px;stroke-linecap:butt;stroke-linejoin:miter;stroke-opacity:1' />\n<path class='bond-4' d='M 253.174,27.0197 L 259.896,13.1304' style='fill:none;fill-rule:evenodd;stroke:#FF0000;stroke-width:2px;stroke-linecap:butt;stroke-linejoin:miter;stroke-opacity:1' />\n<path class='bond-5' d='M 246.452,40.9091 L 267.727,72.2426' style='fill:none;fill-rule:evenodd;stroke:#000000;stroke-width:2px;stroke-linecap:butt;stroke-linejoin:miter;stroke-opacity:1' />\n<path class='bond-6' d='M 270.395,72.4275 L 270.34,71.6721' style='fill:none;fill-rule:evenodd;stroke:#000000;stroke-width:1px;stroke-linecap:butt;stroke-linejoin:miter;stroke-opacity:1' />\n<path class='bond-6' d='M 273.063,72.6125 L 272.953,71.1016' style='fill:none;fill-rule:evenodd;stroke:#000000;stroke-width:1px;stroke-linecap:butt;stroke-linejoin:miter;stroke-opacity:1' />\n<path class='bond-6' d='M 275.731,72.7974 L 275.566,70.5311' style='fill:none;fill-rule:evenodd;stroke:#000000;stroke-width:1px;stroke-linecap:butt;stroke-linejoin:miter;stroke-opacity:1' />\n<path class='bond-6' d='M 278.4,72.9824 L 278.179,69.9606' style='fill:none;fill-rule:evenodd;stroke:#000000;stroke-width:1px;stroke-linecap:butt;stroke-linejoin:miter;stroke-opacity:1' />\n<path class='bond-6' d='M 281.068,73.1674 L 280.792,69.3901' style='fill:none;fill-rule:evenodd;stroke:#000000;stroke-width:1px;stroke-linecap:butt;stroke-linejoin:miter;stroke-opacity:1' />\n<path class='bond-6' d='M 283.736,73.3523 L 283.405,68.8196' style='fill:none;fill-rule:evenodd;stroke:#FF0000;stroke-width:1px;stroke-linecap:butt;stroke-linejoin:miter;stroke-opacity:1' />\n<path class='bond-6' d='M 286.404,73.5373 L 286.018,68.2491' style='fill:none;fill-rule:evenodd;stroke:#FF0000;stroke-width:1px;stroke-linecap:butt;stroke-linejoin:miter;stroke-opacity:1' />\n<path class='bond-6' d='M 289.072,73.7222 L 288.631,67.6786' style='fill:none;fill-rule:evenodd;stroke:#FF0000;stroke-width:1px;stroke-linecap:butt;stroke-linejoin:miter;stroke-opacity:1' />\n<path class='bond-6' d='M 291.741,73.9072 L 291.244,67.1081' style='fill:none;fill-rule:evenodd;stroke:#FF0000;stroke-width:1px;stroke-linecap:butt;stroke-linejoin:miter;stroke-opacity:1' />\n<path class='bond-6' d='M 294.409,74.0922 L 293.857,66.5376' style='fill:none;fill-rule:evenodd;stroke:#FF0000;stroke-width:1px;stroke-linecap:butt;stroke-linejoin:miter;stroke-opacity:1' />\n<path class='bond-7' d='M 267.727,72.2426 L 251.228,106.333' style='fill:none;fill-rule:evenodd;stroke:#000000;stroke-width:2px;stroke-linecap:butt;stroke-linejoin:miter;stroke-opacity:1' />\n<path class='bond-8' d='M 251.228,106.333 L 258.156,119.908 L 261.289,117.78 Z' style='fill:#000000;fill-rule:evenodd;fill-opacity=1;stroke:#000000;stroke-width:2px;stroke-linecap:butt;stroke-linejoin:miter;stroke-opacity:1;' />\n<path class='bond-8' d='M 258.156,119.908 L 271.35,129.227 L 265.084,133.482 Z' style='fill:#FF0000;fill-rule:evenodd;fill-opacity=1;stroke:#FF0000;stroke-width:2px;stroke-linecap:butt;stroke-linejoin:miter;stroke-opacity:1;' />\n<path class='bond-8' d='M 258.156,119.908 L 261.289,117.78 L 271.35,129.227 Z' style='fill:#FF0000;fill-rule:evenodd;fill-opacity=1;stroke:#FF0000;stroke-width:2px;stroke-linecap:butt;stroke-linejoin:miter;stroke-opacity:1;' />\n<path class='bond-9' d='M 251.228,106.333 L 213.456,109.091' style='fill:none;fill-rule:evenodd;stroke:#000000;stroke-width:2px;stroke-linecap:butt;stroke-linejoin:miter;stroke-opacity:1' />\n<path class='bond-10' d='M 211.77,111.704 L 212.452,112.034' style='fill:none;fill-rule:evenodd;stroke:#000000;stroke-width:1px;stroke-linecap:butt;stroke-linejoin:miter;stroke-opacity:1' />\n<path class='bond-10' d='M 210.085,114.317 L 211.449,114.977' style='fill:none;fill-rule:evenodd;stroke:#000000;stroke-width:1px;stroke-linecap:butt;stroke-linejoin:miter;stroke-opacity:1' />\n<path class='bond-10' d='M 208.4,116.93 L 210.445,117.919' style='fill:none;fill-rule:evenodd;stroke:#000000;stroke-width:1px;stroke-linecap:butt;stroke-linejoin:miter;stroke-opacity:1' />\n<path class='bond-10' d='M 206.715,119.542 L 209.442,120.862' style='fill:none;fill-rule:evenodd;stroke:#000000;stroke-width:1px;stroke-linecap:butt;stroke-linejoin:miter;stroke-opacity:1' />\n<path class='bond-10' d='M 205.029,122.155 L 208.438,123.805' style='fill:none;fill-rule:evenodd;stroke:#000000;stroke-width:1px;stroke-linecap:butt;stroke-linejoin:miter;stroke-opacity:1' />\n<path class='bond-10' d='M 203.344,124.768 L 207.435,126.748' style='fill:none;fill-rule:evenodd;stroke:#FF0000;stroke-width:1px;stroke-linecap:butt;stroke-linejoin:miter;stroke-opacity:1' />\n<path class='bond-10' d='M 201.659,127.381 L 206.431,129.691' style='fill:none;fill-rule:evenodd;stroke:#FF0000;stroke-width:1px;stroke-linecap:butt;stroke-linejoin:miter;stroke-opacity:1' />\n<path class='bond-10' d='M 199.973,129.994 L 205.428,132.634' style='fill:none;fill-rule:evenodd;stroke:#FF0000;stroke-width:1px;stroke-linecap:butt;stroke-linejoin:miter;stroke-opacity:1' />\n<path class='bond-10' d='M 198.288,132.607 L 204.425,135.577' style='fill:none;fill-rule:evenodd;stroke:#FF0000;stroke-width:1px;stroke-linecap:butt;stroke-linejoin:miter;stroke-opacity:1' />\n<path class='bond-10' d='M 196.603,135.22 L 203.421,138.519' style='fill:none;fill-rule:evenodd;stroke:#FF0000;stroke-width:1px;stroke-linecap:butt;stroke-linejoin:miter;stroke-opacity:1' />\n<text x='121.767' y='55.4936' style='font-size:12px;font-style:normal;font-weight:normal;fill-opacity:1;stroke:none;font-family:sans-serif;text-anchor:start;fill:#FF0000' ><tspan>OH</tspan></text>\n<text x='202.784' y='49.9788' style='font-size:12px;font-style:normal;font-weight:normal;fill-opacity:1;stroke:none;font-family:sans-serif;text-anchor:start;fill:#FF0000' ><tspan>O</tspan></text>\n<text x='251.584' y='13.1304' style='font-size:12px;font-style:normal;font-weight:normal;fill-opacity:1;stroke:none;font-family:sans-serif;text-anchor:start;fill:#FF0000' ><tspan>OH</tspan></text>\n<text x='294.133' y='75.7973' style='font-size:12px;font-style:normal;font-weight:normal;fill-opacity:1;stroke:none;font-family:sans-serif;text-anchor:start;fill:#FF0000' ><tspan>OH</tspan></text>\n<text x='261.136' y='143.979' style='font-size:12px;font-style:normal;font-weight:normal;fill-opacity:1;stroke:none;font-family:sans-serif;text-anchor:start;fill:#FF0000' ><tspan>OH</tspan></text>\n<text x='185.591' y='149.494' style='font-size:12px;font-style:normal;font-weight:normal;fill-opacity:1;stroke:none;font-family:sans-serif;text-anchor:start;fill:#FF0000' ><tspan>OH</tspan></text>\n</svg>\n",
      "image/png": "[encoded data removed]"
     },
     "execution_count": 8,
     "metadata": {},
     "output_type": "execute_result"
    }
   ],
   "source": [
    "ms_data = {\"HMDB0000122\": {\"mc\": [6, 12, 0, 6, 0, 0], \"exact_mass\": 180.063388116,\n",
    "                           \"prescribed_masses\": [46.0055, 60.0211, 73.029]}}  #\n",
    "\n",
    "annotation_generator = annotate_msn(ms_data, heavy_atoms=range(2, 13), max_valence=6,\n",
    "                                    max_atoms_available=2, max_n_substructures=3, ppm=5,\n",
    "                                    path_connectivity_db=os.path.join(notebook_data, \"connectivity.sqlite\"),\n",
    "                                    path_substructure_db=os.path.join(notebook_data, \"substructures.sqlite\"))\n",
    "\n",
    "annotated_structures = list(annotation_generator)[0]\n",
    "print(\"Total structures generated: \" + str(len(annotated_structures)))\n",
    "print(\"Number of structures generated by all peaks: \" + str(list(annotated_structures.values()).count(3)))\n",
    "\n",
    "print(annotated_structures[\"OC[C@H]1OC(O)[C@H](O)[C@@H](O)[C@@H]1O\"])\n",
    "Chem.MolFromSmiles(\"OC[C@H]1OC(O)[C@H](O)[C@@H](O)[C@@H]1O\")"
   ],
   "metadata": {
    "collapsed": false,
    "pycharm": {
     "name": "#%%\n"
    }
   }
  }
 ],
 "metadata": {
  "kernelspec": {
   "name": "pycharm-6393377e",
   "language": "python",
   "display_name": "PyCharm (metaboverse)"
  },
  "language_info": {
   "codemirror_mode": {
    "name": "ipython",
    "version": 2
   },
   "file_extension": ".py",
   "mimetype": "text/x-python",
   "name": "python",
   "nbconvert_exporter": "python",
   "pygments_lexer": "ipython2",
   "version": "2.7.6"
  }
 },
 "nbformat": 4,
 "nbformat_minor": 0
}